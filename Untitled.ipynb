{
 "cells": [
  {
   "cell_type": "code",
   "execution_count": 93,
   "metadata": {
    "collapsed": true
   },
   "outputs": [],
   "source": [
    "import bokeh\n",
    "import re\n",
    "import requests\n",
    "import subprocess\n",
    "import os"
   ]
  },
  {
   "cell_type": "code",
   "execution_count": 94,
   "metadata": {
    "collapsed": true
   },
   "outputs": [],
   "source": [
    "import pandas as pd"
   ]
  },
  {
   "cell_type": "code",
   "execution_count": 95,
   "metadata": {
    "collapsed": true
   },
   "outputs": [],
   "source": [
    "RAW_FIXTURES_DIR = \"./fixtures/raw\""
   ]
  },
  {
   "cell_type": "code",
   "execution_count": 96,
   "metadata": {
    "collapsed": true
   },
   "outputs": [],
   "source": [
    "CI_pattern = '95%(.)*'\n",
    "Z_pattern = 'Z-(.)*'"
   ]
  },
  {
   "cell_type": "code",
   "execution_count": 117,
   "metadata": {
    "collapsed": true
   },
   "outputs": [],
   "source": [
    "urls = {'2017':\"http://www.countyhealthrankings.org/sites/default/files/state/downloads/2017%20County%20Health%20Rankings%20Indiana%20Data%20-%20v1.xls\",\n",
    "        '2016':\"http://www.countyhealthrankings.org/sites/default/files/state/downloads/2016%20County%20Health%20Rankings%20Indiana%20Data%20-%20v3.xls\",\n",
    "        '2015':\"http://www.countyhealthrankings.org/sites/default/files/state/downloads/2015%20County%20Health%20Rankings%20Indiana%20Data%20-%20v3.xls\",\n",
    "        '2014':\"http://www.countyhealthrankings.org/sites/default/files/state/downloads/2014%20County%20Health%20Rankings%20Indiana%20Data%20-%20v6.xls\",\n",
    "       '2013':\"http://www.countyhealthrankings.org/sites/default/files/state/downloads/2013%20County%20Health%20Ranking%20Indiana%20Data%20-%20v1_0.xls\",\n",
    "       \"2012\":\"http://www.countyhealthrankings.org/sites/default/files/state/downloads/2012%20County%20Health%20Ranking%20Indiana%20Data%20-%20v2.xls\",\n",
    "       \"2011\": \"http://www.countyhealthrankings.org/sites/default/files/state/downloads/2011%20County%20Health%20Ranking%20Indiana%20Data%20-%20v2.xls\"}"
   ]
  },
  {
   "cell_type": "code",
   "execution_count": 118,
   "metadata": {
    "collapsed": true
   },
   "outputs": [],
   "source": [
    "CI_re = re.compile(CI_pattern)\n",
    "Z_re = re.compile(Z_pattern)\n",
    "regex_list = [CI_re, Z_re]"
   ]
  },
  {
   "cell_type": "code",
   "execution_count": 125,
   "metadata": {
    "collapsed": true
   },
   "outputs": [],
   "source": [
    "cols_to_keep=['County', 'Teen Births', 'Teen Birth Rate']"
   ]
  },
  {
   "cell_type": "code",
   "execution_count": 126,
   "metadata": {
    "collapsed": true
   },
   "outputs": [],
   "source": [
    "def get_file(url, filename):\n",
    "    try:\n",
    "        subprocess.call(['wget', url, '-O', filename])\n",
    "    except Exception as e:\n",
    "        print(filename, \"failed.\")\n",
    "    else:\n",
    "        return filename"
   ]
  },
  {
   "cell_type": "code",
   "execution_count": 127,
   "metadata": {
    "collapsed": true
   },
   "outputs": [],
   "source": [
    "def drop_bad_cols(df, regex_patterns=[]):\n",
    "    bad_cols_ci = []\n",
    "    for idx, col in enumerate(df.columns):\n",
    "        for each_regex in regex_patterns:\n",
    "            if re.search(each_regex, col):\n",
    "                bad_cols_ci.append(idx)\n",
    "    \n",
    "    for bad_col in sorted(bad_cols_ci, reverse=True):\n",
    "        df = df.drop(df.columns[bad_col], axis=1, inplace=False)\n",
    "\n",
    "    return df"
   ]
  },
  {
   "cell_type": "code",
   "execution_count": 128,
   "metadata": {
    "collapsed": true
   },
   "outputs": [],
   "source": [
    "def keep_good_cols(df, cols_to_keep=[]):\n",
    "    return df[cols_to_keep]"
   ]
  },
  {
   "cell_type": "code",
   "execution_count": 129,
   "metadata": {},
   "outputs": [],
   "source": [
    "def load_dataset(year, url, sheetname=\"Ranked Measure Data\", skiprows=1, bad_col_regex=list(), good_cols=list(), **kwargs):\n",
    "    try:\n",
    "        file_path = \"{path}/teenbirth_{year}.xls\".format(path = RAW_FIXTURES_DIR, year = year)\n",
    "        url = url\n",
    "\n",
    "        path_to_file = get_file(url = url, filename = file_path)\n",
    "        df = pd.read_excel(path_to_file, sheetname=sheetname, skiprows=skiprows, **kwargs)\n",
    "        df.columns = [col.strip() for col in df.columns]\n",
    "        df = drop_bad_cols(df, regex_patterns=bad_col_regex)\n",
    "        df = keep_good_cols(df, cols_to_keep = good_cols)\n",
    "        df['year'] = year\n",
    "    except KeyError as ke:\n",
    "        print(year)\n",
    "        print(df.columns)\n",
    "        raise\n",
    "    else:\n",
    "        return df"
   ]
  },
  {
   "cell_type": "code",
   "execution_count": 130,
   "metadata": {},
   "outputs": [],
   "source": [
    "dfs = {}\n",
    "for year, url in urls.items():\n",
    "    dfs[year] = load_dataset(year, url, bad_col_regex=regex_list, good_cols = cols_to_keep)"
   ]
  },
  {
   "cell_type": "code",
   "execution_count": 131,
   "metadata": {
    "collapsed": true
   },
   "outputs": [],
   "source": [
    "master_df = pd.concat([df for df in dfs.values()])"
   ]
  },
  {
   "cell_type": "code",
   "execution_count": 132,
   "metadata": {},
   "outputs": [],
   "source": [
    "master_df.to_csv(\"./fixtures/clean/teen_births.csv\", sep = ',')"
   ]
  },
  {
   "cell_type": "code",
   "execution_count": 133,
   "metadata": {},
   "outputs": [
    {
     "data": {
      "text/plain": [
       "<bound method NDFrame.head of          County  Teen Births  Teen Birth Rate  year\n",
       "0           NaN      56051.0        35.158534  2017\n",
       "1         Adams        268.0        31.029293  2017\n",
       "2         Allen       3147.0        35.775186  2017\n",
       "3   Bartholomew        832.0        47.898676  2017\n",
       "4        Benton         62.0        31.360647  2017\n",
       "5     Blackford        132.0        46.643110  2017\n",
       "6         Boone        242.0        16.980073  2017\n",
       "7         Brown         75.0        23.098245  2017\n",
       "8       Carroll        118.0        24.471174  2017\n",
       "9          Cass        425.0        48.185941  2017\n",
       "10        Clark       1009.0        43.381057  2017\n",
       "11         Clay        247.0        38.940564  2017\n",
       "12      Clinton        349.0        46.030071  2017\n",
       "13     Crawford         98.0        40.279490  2017\n",
       "14      Daviess        299.0        39.471947  2017\n",
       "15     Dearborn        329.0        28.943433  2017\n",
       "16      Decatur        264.0        45.220966  2017\n",
       "17       DeKalb        380.0        37.189274  2017\n",
       "18     Delaware        968.0        23.690651  2017\n",
       "19       Dubois        273.0        27.096774  2017\n",
       "20      Elkhart       2299.0        47.264653  2017\n",
       "21      Fayette        314.0        59.503506  2017\n",
       "22        Floyd        582.0        32.650771  2017\n",
       "23     Fountain        180.0        47.108087  2017\n",
       "24     Franklin        147.0        25.793999  2017\n",
       "25       Fulton        200.0        44.014085  2017\n",
       "26       Gibson        286.0        36.465638  2017\n",
       "27        Grant        759.0        35.922192  2017\n",
       "28       Greene        288.0        40.580527  2017\n",
       "29     Hamilton        725.0        10.920813  2017\n",
       "..          ...          ...              ...   ...\n",
       "65        Posey        195.0        27.700000  2011\n",
       "66      Pulaski        136.0        41.700000  2011\n",
       "67       Putnam        385.0        38.300000  2011\n",
       "68     Randolph        293.0        52.800000  2011\n",
       "69       Ripley        282.0        45.900000  2011\n",
       "70         Rush        221.0        52.500000  2011\n",
       "71   St. Joseph       3106.0        42.300000  2011\n",
       "72        Scott        349.0        70.800000  2011\n",
       "73       Shelby        489.0        49.100000  2011\n",
       "74      Spencer        167.0        33.700000  2011\n",
       "75       Starke        329.0        59.400000  2011\n",
       "76      Steuben        389.0        48.600000  2011\n",
       "77     Sullivan        220.0        48.600000  2011\n",
       "78  Switzerland         93.0        42.100000  2011\n",
       "79   Tippecanoe       1262.0        23.900000  2011\n",
       "80       Tipton        145.0        39.700000  2011\n",
       "81        Union         74.0        44.200000  2011\n",
       "82  Vanderburgh       2011.0        44.900000  2011\n",
       "83   Vermillion        133.0        39.200000  2011\n",
       "84         Vigo       1170.0        40.700000  2011\n",
       "85       Wabash        370.0        40.300000  2011\n",
       "86       Warren         60.0        31.000000  2011\n",
       "87      Warrick        391.0        29.300000  2011\n",
       "88   Washington        305.0        48.100000  2011\n",
       "89        Wayne        908.0        56.200000  2011\n",
       "90        Wells        186.0        28.400000  2011\n",
       "91        White        266.0        50.300000  2011\n",
       "92      Whitley        262.0        36.300000  2011\n",
       "93          NaN          NaN              NaN  2011\n",
       "94          NaN          NaN              NaN  2011\n",
       "\n",
       "[661 rows x 4 columns]>"
      ]
     },
     "execution_count": 133,
     "metadata": {},
     "output_type": "execute_result"
    }
   ],
   "source": [
    "master_df.head"
   ]
  },
  {
   "cell_type": "code",
   "execution_count": null,
   "metadata": {
    "collapsed": true
   },
   "outputs": [],
   "source": []
  }
 ],
 "metadata": {
  "kernelspec": {
   "display_name": "Python 3",
   "language": "python",
   "name": "python3"
  },
  "language_info": {
   "codemirror_mode": {
    "name": "ipython",
    "version": 3
   },
   "file_extension": ".py",
   "mimetype": "text/x-python",
   "name": "python",
   "nbconvert_exporter": "python",
   "pygments_lexer": "ipython3",
   "version": "3.6.1"
  }
 },
 "nbformat": 4,
 "nbformat_minor": 2
}
