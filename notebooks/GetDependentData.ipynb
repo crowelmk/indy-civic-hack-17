{
 "cells": [
  {
   "cell_type": "code",
   "execution_count": 93,
   "metadata": {
    "collapsed": true
   },
   "outputs": [],
   "source": [
    "import bokeh\n",
    "import re\n",
    "import requests\n",
    "import subprocess\n",
    "import os"
   ]
  },
  {
   "cell_type": "code",
   "execution_count": 94,
   "metadata": {
    "collapsed": true
   },
   "outputs": [],
   "source": [
    "import pandas as pd"
   ]
  },
  {
   "cell_type": "code",
   "execution_count": 95,
   "metadata": {
    "collapsed": true
   },
   "outputs": [],
   "source": [
    "RAW_FIXTURES_DIR = \"./fixtures/raw\""
   ]
  },
  {
   "cell_type": "code",
   "execution_count": 96,
   "metadata": {
    "collapsed": true
   },
   "outputs": [],
   "source": [
    "CI_pattern = '95%(.)*'\n",
    "Z_pattern = 'Z-(.)*'"
   ]
  },
  {
   "cell_type": "code",
   "execution_count": 117,
   "metadata": {
    "collapsed": true
   },
   "outputs": [],
   "source": [
    "urls = {'2017':\"http://www.countyhealthrankings.org/sites/default/files/state/downloads/2017%20County%20Health%20Rankings%20Indiana%20Data%20-%20v1.xls\",\n",
    "        '2016':\"http://www.countyhealthrankings.org/sites/default/files/state/downloads/2016%20County%20Health%20Rankings%20Indiana%20Data%20-%20v3.xls\",\n",
    "        '2015':\"http://www.countyhealthrankings.org/sites/default/files/state/downloads/2015%20County%20Health%20Rankings%20Indiana%20Data%20-%20v3.xls\",\n",
    "        '2014':\"http://www.countyhealthrankings.org/sites/default/files/state/downloads/2014%20County%20Health%20Rankings%20Indiana%20Data%20-%20v6.xls\",\n",
    "       '2013':\"http://www.countyhealthrankings.org/sites/default/files/state/downloads/2013%20County%20Health%20Ranking%20Indiana%20Data%20-%20v1_0.xls\",\n",
    "       \"2012\":\"http://www.countyhealthrankings.org/sites/default/files/state/downloads/2012%20County%20Health%20Ranking%20Indiana%20Data%20-%20v2.xls\",\n",
    "       \"2011\": \"http://www.countyhealthrankings.org/sites/default/files/state/downloads/2011%20County%20Health%20Ranking%20Indiana%20Data%20-%20v2.xls\"}"
   ]
  },
  {
   "cell_type": "code",
   "execution_count": 118,
   "metadata": {
    "collapsed": true
   },
   "outputs": [],
   "source": [
    "CI_re = re.compile(CI_pattern)\n",
    "Z_re = re.compile(Z_pattern)\n",
    "regex_list = [CI_re, Z_re]"
   ]
  },
  {
   "cell_type": "code",
   "execution_count": 119,
   "metadata": {
    "collapsed": true
   },
   "outputs": [],
   "source": [
    "cols_to_keep=['County', 'Teen Births', 'Teen Birth Rate', 'Teen Population']"
   ]
  },
  {
   "cell_type": "code",
   "execution_count": 120,
   "metadata": {
    "collapsed": true
   },
   "outputs": [],
   "source": [
    "def get_file(url, filename):\n",
    "    try:\n",
    "        subprocess.call(['wget', url, '-O', filename])\n",
    "    except Exception as e:\n",
    "        print(filename, \"failed.\")\n",
    "    else:\n",
    "        return filename"
   ]
  },
  {
   "cell_type": "code",
   "execution_count": 121,
   "metadata": {
    "collapsed": true
   },
   "outputs": [],
   "source": [
    "def drop_bad_cols(df, regex_patterns=[]):\n",
    "    bad_cols_ci = []\n",
    "    for idx, col in enumerate(df.columns):\n",
    "        for each_regex in regex_patterns:\n",
    "            if re.search(each_regex, col):\n",
    "                bad_cols_ci.append(idx)\n",
    "    \n",
    "    for bad_col in sorted(bad_cols_ci, reverse=True):\n",
    "        df = df.drop(df.columns[bad_col], axis=1, inplace=False)\n",
    "\n",
    "    return df"
   ]
  },
  {
   "cell_type": "code",
   "execution_count": 122,
   "metadata": {
    "collapsed": true
   },
   "outputs": [],
   "source": [
    "def keep_good_cols(df, cols_to_keep=[]):\n",
    "    \n",
    "    return df[cols_to_keep]"
   ]
  },
  {
   "cell_type": "code",
   "execution_count": 123,
   "metadata": {},
   "outputs": [],
   "source": [
    "def load_dataset(year, url, sheetname=\"Ranked Measure Data\", skiprows=1, bad_col_regex=list(), good_cols=list(), **kwargs):\n",
    "    try:\n",
    "        file_path = \"{path}/teenbirth_{year}.xls\".format(path = RAW_FIXTURES_DIR, year = year)\n",
    "        url = url\n",
    "\n",
    "        path_to_file = get_file(url = url, filename = file_path)\n",
    "        df = pd.read_excel(path_to_file, sheetname=sheetname, skiprows=skiprows, **kwargs)\n",
    "        df.columns = [col.strip() for col in df.columns]\n",
    "        df = drop_bad_cols(df, regex_patterns=bad_col_regex)\n",
    "        df = keep_good_cols(df, cols_to_keep = good_cols)\n",
    "        df['year'] = year\n",
    "    except KeyError as ke:\n",
    "        print(year)\n",
    "        print(df.columns)\n",
    "        raise\n",
    "    else:\n",
    "        return df"
   ]
  },
  {
   "cell_type": "code",
   "execution_count": 124,
   "metadata": {},
   "outputs": [
    {
     "name": "stdout",
     "output_type": "stream",
     "text": [
      "2011\n",
      "Index(['FIPS', 'State', 'County', 'Unreliable', 'Deaths', 'YPLL Rate',\n",
      "       'Sample Size', '% Fair/Poor', 'Sample Size.1',\n",
      "       'Physically Unhealthy Days', 'Sample Size.2', 'Mentally Unhealthy Days',\n",
      "       'Unreliable.1', 'Sample Size.3', '% LBW', 'Sample Size.4', '% Smokers',\n",
      "       '% Obese', 'Sample Size.5', '% Excessive Drinking', 'Unreliable.2',\n",
      "       'MV mortality rate', 'Under review', 'Cases', 'Population',\n",
      "       'Rates per 100,000', 'Teen Births', 'Teen Birth Rate', '% Uninsured',\n",
      "       'PCP No', 'PCP Rate', 'PCP Ratio', 'Unreliable.3', 'Population.1',\n",
      "       'PCP No.1', 'PCP Rate.1', 'PCP Ratio.1', 'No of Medicare enrollees',\n",
      "       'ACSC Rate', 'No of Diabetics', '% HbA1c', 'Mammography Rate',\n",
      "       'Under review.1', 'AFGR', 'PSED Num', 'Population.2', 'PSED',\n",
      "       '% unemployed', '% Children in Poverty', 'Sample Size.6',\n",
      "       '% No Social-Emotional Support', '% Single-Parent Households',\n",
      "       'Aggregate Population', 'Violent Crimes', 'Violent Crime Rate',\n",
      "       'Unreliable.4', 'Homicide Rate', 'PM Days', 'Ozone Days',\n",
      "       'Unreliable.5', 'Zip Codes with Healthy Food', '# Zip Codes',\n",
      "       '% Healthy Food', 'Rec Facs', 'Population.3', 'Rec Fac Rate'],\n",
      "      dtype='object')\n"
     ]
    },
    {
     "ename": "KeyError",
     "evalue": "\"['Teen Population'] not in index\"",
     "output_type": "error",
     "traceback": [
      "\u001b[0;31m---------------------------------------------------------------------------\u001b[0m",
      "\u001b[0;31mKeyError\u001b[0m                                  Traceback (most recent call last)",
      "\u001b[0;32m<ipython-input-124-c8f443d5a185>\u001b[0m in \u001b[0;36m<module>\u001b[0;34m()\u001b[0m\n\u001b[1;32m      1\u001b[0m \u001b[0mdfs\u001b[0m \u001b[0;34m=\u001b[0m \u001b[0;34m{\u001b[0m\u001b[0;34m}\u001b[0m\u001b[0;34m\u001b[0m\u001b[0m\n\u001b[1;32m      2\u001b[0m \u001b[0;32mfor\u001b[0m \u001b[0myear\u001b[0m\u001b[0;34m,\u001b[0m \u001b[0murl\u001b[0m \u001b[0;32min\u001b[0m \u001b[0murls\u001b[0m\u001b[0;34m.\u001b[0m\u001b[0mitems\u001b[0m\u001b[0;34m(\u001b[0m\u001b[0;34m)\u001b[0m\u001b[0;34m:\u001b[0m\u001b[0;34m\u001b[0m\u001b[0m\n\u001b[0;32m----> 3\u001b[0;31m     \u001b[0mdfs\u001b[0m\u001b[0;34m[\u001b[0m\u001b[0myear\u001b[0m\u001b[0;34m]\u001b[0m \u001b[0;34m=\u001b[0m \u001b[0mload_dataset\u001b[0m\u001b[0;34m(\u001b[0m\u001b[0myear\u001b[0m\u001b[0;34m,\u001b[0m \u001b[0murl\u001b[0m\u001b[0;34m,\u001b[0m \u001b[0mbad_col_regex\u001b[0m\u001b[0;34m=\u001b[0m\u001b[0mregex_list\u001b[0m\u001b[0;34m,\u001b[0m \u001b[0mgood_cols\u001b[0m \u001b[0;34m=\u001b[0m \u001b[0mcols_to_keep\u001b[0m\u001b[0;34m)\u001b[0m\u001b[0;34m\u001b[0m\u001b[0m\n\u001b[0m",
      "\u001b[0;32m<ipython-input-123-6945c4c7632a>\u001b[0m in \u001b[0;36mload_dataset\u001b[0;34m(year, url, sheetname, skiprows, bad_col_regex, good_cols, **kwargs)\u001b[0m\n\u001b[1;32m      8\u001b[0m         \u001b[0mdf\u001b[0m\u001b[0;34m.\u001b[0m\u001b[0mcolumns\u001b[0m \u001b[0;34m=\u001b[0m \u001b[0;34m[\u001b[0m\u001b[0mcol\u001b[0m\u001b[0;34m.\u001b[0m\u001b[0mstrip\u001b[0m\u001b[0;34m(\u001b[0m\u001b[0;34m)\u001b[0m \u001b[0;32mfor\u001b[0m \u001b[0mcol\u001b[0m \u001b[0;32min\u001b[0m \u001b[0mdf\u001b[0m\u001b[0;34m.\u001b[0m\u001b[0mcolumns\u001b[0m\u001b[0;34m]\u001b[0m\u001b[0;34m\u001b[0m\u001b[0m\n\u001b[1;32m      9\u001b[0m         \u001b[0mdf\u001b[0m \u001b[0;34m=\u001b[0m \u001b[0mdrop_bad_cols\u001b[0m\u001b[0;34m(\u001b[0m\u001b[0mdf\u001b[0m\u001b[0;34m,\u001b[0m \u001b[0mregex_patterns\u001b[0m\u001b[0;34m=\u001b[0m\u001b[0mbad_col_regex\u001b[0m\u001b[0;34m)\u001b[0m\u001b[0;34m\u001b[0m\u001b[0m\n\u001b[0;32m---> 10\u001b[0;31m         \u001b[0mdf\u001b[0m \u001b[0;34m=\u001b[0m \u001b[0mkeep_good_cols\u001b[0m\u001b[0;34m(\u001b[0m\u001b[0mdf\u001b[0m\u001b[0;34m,\u001b[0m \u001b[0mcols_to_keep\u001b[0m \u001b[0;34m=\u001b[0m \u001b[0mgood_cols\u001b[0m\u001b[0;34m)\u001b[0m\u001b[0;34m\u001b[0m\u001b[0m\n\u001b[0m\u001b[1;32m     11\u001b[0m         \u001b[0mdf\u001b[0m\u001b[0;34m[\u001b[0m\u001b[0;34m'year'\u001b[0m\u001b[0;34m]\u001b[0m \u001b[0;34m=\u001b[0m \u001b[0myear\u001b[0m\u001b[0;34m\u001b[0m\u001b[0m\n\u001b[1;32m     12\u001b[0m     \u001b[0;32mexcept\u001b[0m \u001b[0mKeyError\u001b[0m \u001b[0;32mas\u001b[0m \u001b[0mke\u001b[0m\u001b[0;34m:\u001b[0m\u001b[0;34m\u001b[0m\u001b[0m\n",
      "\u001b[0;32m<ipython-input-122-80196e46fb0c>\u001b[0m in \u001b[0;36mkeep_good_cols\u001b[0;34m(df, cols_to_keep)\u001b[0m\n\u001b[1;32m      1\u001b[0m \u001b[0;32mdef\u001b[0m \u001b[0mkeep_good_cols\u001b[0m\u001b[0;34m(\u001b[0m\u001b[0mdf\u001b[0m\u001b[0;34m,\u001b[0m \u001b[0mcols_to_keep\u001b[0m\u001b[0;34m=\u001b[0m\u001b[0;34m[\u001b[0m\u001b[0;34m]\u001b[0m\u001b[0;34m)\u001b[0m\u001b[0;34m:\u001b[0m\u001b[0;34m\u001b[0m\u001b[0m\n\u001b[0;32m----> 2\u001b[0;31m     \u001b[0;32mreturn\u001b[0m \u001b[0mdf\u001b[0m\u001b[0;34m[\u001b[0m\u001b[0mcols_to_keep\u001b[0m\u001b[0;34m]\u001b[0m\u001b[0;34m\u001b[0m\u001b[0m\n\u001b[0m",
      "\u001b[0;32m~/miniconda3/envs/civic/lib/python3.6/site-packages/pandas/core/frame.py\u001b[0m in \u001b[0;36m__getitem__\u001b[0;34m(self, key)\u001b[0m\n\u001b[1;32m   1956\u001b[0m         \u001b[0;32mif\u001b[0m \u001b[0misinstance\u001b[0m\u001b[0;34m(\u001b[0m\u001b[0mkey\u001b[0m\u001b[0;34m,\u001b[0m \u001b[0;34m(\u001b[0m\u001b[0mSeries\u001b[0m\u001b[0;34m,\u001b[0m \u001b[0mnp\u001b[0m\u001b[0;34m.\u001b[0m\u001b[0mndarray\u001b[0m\u001b[0;34m,\u001b[0m \u001b[0mIndex\u001b[0m\u001b[0;34m,\u001b[0m \u001b[0mlist\u001b[0m\u001b[0;34m)\u001b[0m\u001b[0;34m)\u001b[0m\u001b[0;34m:\u001b[0m\u001b[0;34m\u001b[0m\u001b[0m\n\u001b[1;32m   1957\u001b[0m             \u001b[0;31m# either boolean or fancy integer index\u001b[0m\u001b[0;34m\u001b[0m\u001b[0;34m\u001b[0m\u001b[0m\n\u001b[0;32m-> 1958\u001b[0;31m             \u001b[0;32mreturn\u001b[0m \u001b[0mself\u001b[0m\u001b[0;34m.\u001b[0m\u001b[0m_getitem_array\u001b[0m\u001b[0;34m(\u001b[0m\u001b[0mkey\u001b[0m\u001b[0;34m)\u001b[0m\u001b[0;34m\u001b[0m\u001b[0m\n\u001b[0m\u001b[1;32m   1959\u001b[0m         \u001b[0;32melif\u001b[0m \u001b[0misinstance\u001b[0m\u001b[0;34m(\u001b[0m\u001b[0mkey\u001b[0m\u001b[0;34m,\u001b[0m \u001b[0mDataFrame\u001b[0m\u001b[0;34m)\u001b[0m\u001b[0;34m:\u001b[0m\u001b[0;34m\u001b[0m\u001b[0m\n\u001b[1;32m   1960\u001b[0m             \u001b[0;32mreturn\u001b[0m \u001b[0mself\u001b[0m\u001b[0;34m.\u001b[0m\u001b[0m_getitem_frame\u001b[0m\u001b[0;34m(\u001b[0m\u001b[0mkey\u001b[0m\u001b[0;34m)\u001b[0m\u001b[0;34m\u001b[0m\u001b[0m\n",
      "\u001b[0;32m~/miniconda3/envs/civic/lib/python3.6/site-packages/pandas/core/frame.py\u001b[0m in \u001b[0;36m_getitem_array\u001b[0;34m(self, key)\u001b[0m\n\u001b[1;32m   2000\u001b[0m             \u001b[0;32mreturn\u001b[0m \u001b[0mself\u001b[0m\u001b[0;34m.\u001b[0m\u001b[0mtake\u001b[0m\u001b[0;34m(\u001b[0m\u001b[0mindexer\u001b[0m\u001b[0;34m,\u001b[0m \u001b[0maxis\u001b[0m\u001b[0;34m=\u001b[0m\u001b[0;36m0\u001b[0m\u001b[0;34m,\u001b[0m \u001b[0mconvert\u001b[0m\u001b[0;34m=\u001b[0m\u001b[0;32mFalse\u001b[0m\u001b[0;34m)\u001b[0m\u001b[0;34m\u001b[0m\u001b[0m\n\u001b[1;32m   2001\u001b[0m         \u001b[0;32melse\u001b[0m\u001b[0;34m:\u001b[0m\u001b[0;34m\u001b[0m\u001b[0m\n\u001b[0;32m-> 2002\u001b[0;31m             \u001b[0mindexer\u001b[0m \u001b[0;34m=\u001b[0m \u001b[0mself\u001b[0m\u001b[0;34m.\u001b[0m\u001b[0mloc\u001b[0m\u001b[0;34m.\u001b[0m\u001b[0m_convert_to_indexer\u001b[0m\u001b[0;34m(\u001b[0m\u001b[0mkey\u001b[0m\u001b[0;34m,\u001b[0m \u001b[0maxis\u001b[0m\u001b[0;34m=\u001b[0m\u001b[0;36m1\u001b[0m\u001b[0;34m)\u001b[0m\u001b[0;34m\u001b[0m\u001b[0m\n\u001b[0m\u001b[1;32m   2003\u001b[0m             \u001b[0;32mreturn\u001b[0m \u001b[0mself\u001b[0m\u001b[0;34m.\u001b[0m\u001b[0mtake\u001b[0m\u001b[0;34m(\u001b[0m\u001b[0mindexer\u001b[0m\u001b[0;34m,\u001b[0m \u001b[0maxis\u001b[0m\u001b[0;34m=\u001b[0m\u001b[0;36m1\u001b[0m\u001b[0;34m,\u001b[0m \u001b[0mconvert\u001b[0m\u001b[0;34m=\u001b[0m\u001b[0;32mTrue\u001b[0m\u001b[0;34m)\u001b[0m\u001b[0;34m\u001b[0m\u001b[0m\n\u001b[1;32m   2004\u001b[0m \u001b[0;34m\u001b[0m\u001b[0m\n",
      "\u001b[0;32m~/miniconda3/envs/civic/lib/python3.6/site-packages/pandas/core/indexing.py\u001b[0m in \u001b[0;36m_convert_to_indexer\u001b[0;34m(self, obj, axis, is_setter)\u001b[0m\n\u001b[1;32m   1229\u001b[0m                 \u001b[0mmask\u001b[0m \u001b[0;34m=\u001b[0m \u001b[0mcheck\u001b[0m \u001b[0;34m==\u001b[0m \u001b[0;34m-\u001b[0m\u001b[0;36m1\u001b[0m\u001b[0;34m\u001b[0m\u001b[0m\n\u001b[1;32m   1230\u001b[0m                 \u001b[0;32mif\u001b[0m \u001b[0mmask\u001b[0m\u001b[0;34m.\u001b[0m\u001b[0many\u001b[0m\u001b[0;34m(\u001b[0m\u001b[0;34m)\u001b[0m\u001b[0;34m:\u001b[0m\u001b[0;34m\u001b[0m\u001b[0m\n\u001b[0;32m-> 1231\u001b[0;31m                     \u001b[0;32mraise\u001b[0m \u001b[0mKeyError\u001b[0m\u001b[0;34m(\u001b[0m\u001b[0;34m'%s not in index'\u001b[0m \u001b[0;34m%\u001b[0m \u001b[0mobjarr\u001b[0m\u001b[0;34m[\u001b[0m\u001b[0mmask\u001b[0m\u001b[0;34m]\u001b[0m\u001b[0;34m)\u001b[0m\u001b[0;34m\u001b[0m\u001b[0m\n\u001b[0m\u001b[1;32m   1232\u001b[0m \u001b[0;34m\u001b[0m\u001b[0m\n\u001b[1;32m   1233\u001b[0m                 \u001b[0;32mreturn\u001b[0m \u001b[0m_values_from_object\u001b[0m\u001b[0;34m(\u001b[0m\u001b[0mindexer\u001b[0m\u001b[0;34m)\u001b[0m\u001b[0;34m\u001b[0m\u001b[0m\n",
      "\u001b[0;31mKeyError\u001b[0m: \"['Teen Population'] not in index\""
     ]
    }
   ],
   "source": [
    "dfs = {}\n",
    "for year, url in urls.items():\n",
    "    dfs[year] = load_dataset(year, url, bad_col_regex=regex_list, good_cols = cols_to_keep)"
   ]
  },
  {
   "cell_type": "code",
   "execution_count": null,
   "metadata": {
    "collapsed": true
   },
   "outputs": [],
   "source": [
    "master_df = pd.concat([df for df in dfs.values()])"
   ]
  },
  {
   "cell_type": "code",
   "execution_count": 111,
   "metadata": {},
   "outputs": [],
   "source": [
    "master_df.to_csv(\"./fixtures/clean/teen_births.csv\", sep = ',')"
   ]
  },
  {
   "cell_type": "code",
   "execution_count": 116,
   "metadata": {},
   "outputs": [
    {
     "data": {
      "text/plain": [
       "<bound method NDFrame.head of          County  Teen Births  Teen Birth Rate  Teen Population  year\n",
       "0           NaN      56051.0        35.158534        1594236.0  2017\n",
       "1         Adams        268.0        31.029293           8637.0  2017\n",
       "2         Allen       3147.0        35.775186          87966.0  2017\n",
       "3   Bartholomew        832.0        47.898676          17370.0  2017\n",
       "4        Benton         62.0        31.360647           1977.0  2017\n",
       "5     Blackford        132.0        46.643110           2830.0  2017\n",
       "6         Boone        242.0        16.980073          14252.0  2017\n",
       "7         Brown         75.0        23.098245           3247.0  2017\n",
       "8       Carroll        118.0        24.471174           4822.0  2017\n",
       "9          Cass        425.0        48.185941           8820.0  2017\n",
       "10        Clark       1009.0        43.381057          23259.0  2017\n",
       "11         Clay        247.0        38.940564           6343.0  2017\n",
       "12      Clinton        349.0        46.030071           7582.0  2017\n",
       "13     Crawford         98.0        40.279490           2433.0  2017\n",
       "14      Daviess        299.0        39.471947           7575.0  2017\n",
       "15     Dearborn        329.0        28.943433          11367.0  2017\n",
       "16      Decatur        264.0        45.220966           5838.0  2017\n",
       "17       DeKalb        380.0        37.189274          10218.0  2017\n",
       "18     Delaware        968.0        23.690651          40860.0  2017\n",
       "19       Dubois        273.0        27.096774          10075.0  2017\n",
       "20      Elkhart       2299.0        47.264653          48641.0  2017\n",
       "21      Fayette        314.0        59.503506           5277.0  2017\n",
       "22        Floyd        582.0        32.650771          17825.0  2017\n",
       "23     Fountain        180.0        47.108087           3821.0  2017\n",
       "24     Franklin        147.0        25.793999           5699.0  2017\n",
       "25       Fulton        200.0        44.014085           4544.0  2017\n",
       "26       Gibson        286.0        36.465638           7843.0  2017\n",
       "27        Grant        759.0        35.922192          21129.0  2017\n",
       "28       Greene        288.0        40.580527           7097.0  2017\n",
       "29     Hamilton        725.0        10.920813          66387.0  2017\n",
       "..          ...          ...              ...              ...   ...\n",
       "65        Posey        186.0        26.700000           6978.0  2012\n",
       "66      Pulaski        139.0        41.800000           3327.0  2012\n",
       "67       Putnam        365.0        35.200000          10355.0  2012\n",
       "68     Randolph        292.0        51.400000           5684.0  2012\n",
       "69       Ripley        283.0        44.100000           6420.0  2012\n",
       "70         Rush        217.0        51.500000           4217.0  2012\n",
       "71   St. Joseph       3099.0        41.500000          74647.0  2012\n",
       "72        Scott        341.0        67.500000           5050.0  2012\n",
       "73       Shelby        486.0        47.700000          10180.0  2012\n",
       "74      Spencer        159.0        31.800000           5000.0  2012\n",
       "75       Starke        319.0        56.600000           5641.0  2012\n",
       "76      Steuben        372.0        46.000000           8081.0  2012\n",
       "77     Sullivan        210.0        47.400000           4428.0  2012\n",
       "78  Switzerland         93.0        40.800000           2279.0  2012\n",
       "79   Tippecanoe       1322.0        26.400000          50162.0  2012\n",
       "80       Tipton        150.0        41.400000           3622.0  2012\n",
       "81        Union         80.0        47.300000           1690.0  2012\n",
       "82  Vanderburgh       1980.0        44.800000          44155.0  2012\n",
       "83   Vermillion        132.0        38.100000           3467.0  2012\n",
       "84         Vigo       1206.0        43.900000          27442.0  2012\n",
       "85       Wabash        346.0        38.100000           9092.0  2012\n",
       "86       Warren         58.0        30.100000           1924.0  2012\n",
       "87      Warrick        377.0        27.900000          13510.0  2012\n",
       "88   Washington        300.0        46.500000           6448.0  2012\n",
       "89        Wayne        908.0        55.900000          16247.0  2012\n",
       "90        Wells        176.0        26.400000           6670.0  2012\n",
       "91        White        252.0        46.000000           5484.0  2012\n",
       "92      Whitley        253.0        34.300000           7380.0  2012\n",
       "93          NaN          NaN              NaN              NaN  2012\n",
       "94          NaN          NaN              NaN              NaN  2012\n",
       "\n",
       "[566 rows x 5 columns]>"
      ]
     },
     "execution_count": 116,
     "metadata": {},
     "output_type": "execute_result"
    }
   ],
   "source": [
    "master_df.head"
   ]
  },
  {
   "cell_type": "code",
   "execution_count": null,
   "metadata": {
    "collapsed": true
   },
   "outputs": [],
   "source": []
  }
 ],
 "metadata": {
  "kernelspec": {
   "display_name": "Python 3",
   "language": "python",
   "name": "python3"
  },
  "language_info": {
   "codemirror_mode": {
    "name": "ipython",
    "version": 3
   },
   "file_extension": ".py",
   "mimetype": "text/x-python",
   "name": "python",
   "nbconvert_exporter": "python",
   "pygments_lexer": "ipython3",
   "version": "3.6.1"
  }
 },
 "nbformat": 4,
 "nbformat_minor": 2
}
